{
 "cells": [
  {
   "cell_type": "code",
   "execution_count": 98,
   "metadata": {},
   "outputs": [],
   "source": [
    "import csv\n",
    "import pandas as pd\n",
    "from prettytable import PrettyTable\n",
    "import matplotlib.pyplot as plt\n",
    "import seaborn as sns\n",
    "import numpy as np"
   ]
  },
  {
   "cell_type": "code",
   "execution_count": 99,
   "metadata": {},
   "outputs": [],
   "source": [
    "#load the three years data\n",
    "df_1 = pd.read_csv(\"SPARCS2014.csv\", index_col = None, header = 0, low_memory = False)\n",
    "df_2 = pd.read_csv(\"SPARCS2015.csv\", index_col = None, header = 0, low_memory = False)\n",
    "df_3 = pd.read_csv(\"SPARCS2016.csv\", index_col = None, header = 0, low_memory = False)"
   ]
  },
  {
   "cell_type": "code",
   "execution_count": 379,
   "metadata": {},
   "outputs": [
    {
     "name": "stdout",
     "output_type": "stream",
     "text": [
      "<class 'pandas.core.frame.DataFrame'>\n",
      "RangeIndex: 2343429 entries, 0 to 2343428\n",
      "Data columns (total 38 columns):\n",
      "Health Service Area                      object\n",
      "Hospital County                          object\n",
      "Operating Certificate Number             float64\n",
      "Facility Id                              float64\n",
      "Facility Name                            object\n",
      "Age Group                                object\n",
      "Zip Code - 3 digits                      object\n",
      "Gender                                   object\n",
      "Race                                     object\n",
      "Ethnicity                                object\n",
      "Length of Stay                           object\n",
      "Type of Admission                        object\n",
      "Patient Disposition                      object\n",
      "Discharge Year                           int64\n",
      "CCS Diagnosis Code                       int64\n",
      "CCS Diagnosis Description                object\n",
      "CCS Procedure Code                       int64\n",
      "CCS Procedure Description                object\n",
      "APR DRG Code                             int64\n",
      "APR DRG Description                      object\n",
      "APR MDC Code                             int64\n",
      "APR MDC Description                      object\n",
      "APR Severity of Illness Code             int64\n",
      "APR Severity of Illness Description      object\n",
      "APR Risk of Mortality                    object\n",
      "APR Medical Surgical Description         object\n",
      "Payment Typology 1                       object\n",
      "Payment Typology 2                       object\n",
      "Payment Typology 3                       object\n",
      "Attending Provider License Number        float64\n",
      "Operating Provider License Number        float64\n",
      "Other Provider License Number            float64\n",
      "Birth Weight                             int64\n",
      "Abortion Edit Indicator                  object\n",
      "Emergency Department Indicator           object\n",
      "Total Charges                            float64\n",
      "Total Costs                              float64\n",
      "Ratio of Total Costs to Total Charges    float64\n",
      "dtypes: float64(8), int64(7), object(23)\n",
      "memory usage: 679.4+ MB\n"
     ]
    }
   ],
   "source": [
    "df_3.info()"
   ]
  },
  {
   "cell_type": "code",
   "execution_count": 368,
   "metadata": {},
   "outputs": [],
   "source": [
    "# select the patient who has Asthma Diagnosis\n",
    "df_16 = df_3[df_3['CCS Diagnosis Description'] == 'Asthma']\n",
    "df_15 = df_2[df_2['CCS Diagnosis Description'] == 'Asthma']\n",
    "df_14 = df_1[df_1['CCS Diagnosis Description'] == 'Asthma']"
   ]
  },
  {
   "cell_type": "code",
   "execution_count": null,
   "metadata": {},
   "outputs": [],
   "source": [
    "df_16.info"
   ]
  },
  {
   "cell_type": "code",
   "execution_count": 369,
   "metadata": {},
   "outputs": [],
   "source": [
    "#merge three years data\n",
    "df = pd.concat([df_14, df_15,df_16],sort=False)"
   ]
  },
  {
   "cell_type": "code",
   "execution_count": 370,
   "metadata": {},
   "outputs": [],
   "source": [
    "#since there are 37 columns most of them are not useful for the project obejective, we will drop them\n",
    "columns = ['Health Service Area','Hospital County','Operating Certificate Number', 'Facility ID',\n",
    "        'Facility Name','CCS Diagnosis Code','CCS Procedure Code','CCS Procedure Description',\n",
    "        'APR DRG Code','APR DRG Description','Payment Typology 2','Payment Typology 3',\n",
    "        'Attending Provider License Number','Operating Provider License Number','Other Provider License Number',\n",
    "        'Facility Id','Ratio of Total Costs to Total Charges','Zip Code - 3 digits','APR Severity of Illness Description',\n",
    "        'APR MDC Code','APR MDC Description','CCS Diagnosis Description','Total Costs','Patient Disposition']\n",
    "df.drop(columns, inplace=True, axis=1)"
   ]
  },
  {
   "cell_type": "code",
   "execution_count": 371,
   "metadata": {},
   "outputs": [
    {
     "data": {
      "text/plain": [
       "Age Group                           0\n",
       "Gender                              0\n",
       "Race                                0\n",
       "Ethnicity                           0\n",
       "Length of Stay                      0\n",
       "Type of Admission                   0\n",
       "Discharge Year                      0\n",
       "APR Severity of Illness Code        0\n",
       "APR Risk of Mortality               0\n",
       "APR Medical Surgical Description    0\n",
       "Payment Typology 1                  0\n",
       "Birth Weight                        0\n",
       "Abortion Edit Indicator             0\n",
       "Emergency Department Indicator      0\n",
       "Total Charges                       0\n",
       "dtype: int64"
      ]
     },
     "execution_count": 371,
     "metadata": {},
     "output_type": "execute_result"
    }
   ],
   "source": [
    "# check if there are missing values\n",
    "df.isnull().sum()"
   ]
  },
  {
   "cell_type": "code",
   "execution_count": 372,
   "metadata": {},
   "outputs": [
    {
     "data": {
      "text/plain": [
       "0       85924\n",
       "3200        1\n",
       "Name: Birth Weight, dtype: int64"
      ]
     },
     "execution_count": 372,
     "metadata": {},
     "output_type": "execute_result"
    }
   ],
   "source": [
    "# check the colum\n",
    "df['Birth Weight'].value_counts()"
   ]
  },
  {
   "cell_type": "code",
   "execution_count": 373,
   "metadata": {},
   "outputs": [],
   "source": [
    "#drop this columns\n",
    "df.drop('Birth Weight',axis = 1, inplace=True)"
   ]
  },
  {
   "cell_type": "code",
   "execution_count": 374,
   "metadata": {},
   "outputs": [],
   "source": [
    "# select main payment method\n",
    "df = df[df['Payment Typology 1'] != 'Unknown']\n",
    "df = df[df['Payment Typology 1'] != 'Self-Pay']\n",
    "df = df[df['Payment Typology 1'] != 'Managed Care, Unspecified']\n",
    "df = df[df['Payment Typology 1'] != 'Miscellaneous/Other']\n",
    "df = df[df['Payment Typology 1'] != 'Federal/State/Local/VA']\n",
    "df = df[df['Payment Typology 1'] != 'Department of Corrections']"
   ]
  },
  {
   "cell_type": "code",
   "execution_count": 375,
   "metadata": {},
   "outputs": [],
   "source": [
    "# add a new column length to deal with 120+ to 120\n",
    "new = df['Length of Stay'].str.split(\" \", n = 1, expand = True)\n",
    "df['length']=new[0]\n",
    "df['length']=pd.to_numeric(df.length)\n",
    "df = df[df['length'] <= 20]"
   ]
  },
  {
   "cell_type": "code",
   "execution_count": 376,
   "metadata": {},
   "outputs": [
    {
     "data": {
      "text/plain": [
       "Medical     81593\n",
       "Surgical      282\n",
       "Name: APR Medical Surgical Description, dtype: int64"
      ]
     },
     "execution_count": 376,
     "metadata": {},
     "output_type": "execute_result"
    }
   ],
   "source": [
    "\n",
    "df['APR Medical Surgical Description'].value_counts()"
   ]
  },
  {
   "cell_type": "code",
   "execution_count": 319,
   "metadata": {},
   "outputs": [
    {
     "data": {
      "text/plain": [
       "array(['Medicare', 'Blue Cross/Blue Shield', 'Medicaid',\n",
       "       'Private Health Insurance'], dtype=object)"
      ]
     },
     "execution_count": 319,
     "metadata": {},
     "output_type": "execute_result"
    }
   ],
   "source": [
    "df_anova = df[['length','Payment Typology 1']]\n",
    "grps = pd.unique(df_anova['Payment Typology 1'])\n",
    "d_data = {grp:df_anova['length'][df_anova['Payment Typology 1'] == grp] for grp in grps}\n",
    "grps"
   ]
  },
  {
   "cell_type": "code",
   "execution_count": 320,
   "metadata": {},
   "outputs": [
    {
     "data": {
      "text/plain": [
       "<matplotlib.axes._subplots.AxesSubplot at 0x14f1e0cb8d0>"
      ]
     },
     "execution_count": 320,
     "metadata": {},
     "output_type": "execute_result"
    },
    {
     "data": {
      "image/png": "[encoded data removed]",
      "text/plain": [
       "<Figure size 432x288 with 1 Axes>"
      ]
     },
     "metadata": {
      "needs_background": "light"
     },
     "output_type": "display_data"
    }
   ],
   "source": [
    "df_anova.boxplot('length',by = 'Payment Typology 1')"
   ]
  },
  {
   "cell_type": "code",
   "execution_count": 321,
   "metadata": {},
   "outputs": [],
   "source": [
    "from scipy import stats"
   ]
  },
  {
   "cell_type": "code",
   "execution_count": 366,
   "metadata": {},
   "outputs": [
    {
     "name": "stdout",
     "output_type": "stream",
     "text": [
      "p-value for significance is:  0.0 2540.3909634969077\n",
      "reject null hypothesis\n"
     ]
    }
   ],
   "source": [
    "F, p = stats.f_oneway(d_data['Blue Cross/Blue Shield'], d_data['Medicare'], d_data['Medicaid'],d_data['Private Health Insurance'])\n",
    "print(\"p-value for significance is: \", p)\n",
    "if p<0.05:\n",
    "   print(\"reject null hypothesis\")\n",
    "else: \n",
    "  print(\"accept null hypothesis\")"
   ]
  },
  {
   "cell_type": "code",
   "execution_count": null,
   "metadata": {},
   "outputs": [],
   "source": [
    "#post-hoc test : Turkey-kramer "
   ]
  },
  {
   "cell_type": "code",
   "execution_count": 323,
   "metadata": {},
   "outputs": [],
   "source": [
    "from statsmodels.stats.multicomp import pairwise_tukeyhsd"
   ]
  },
  {
   "cell_type": "code",
   "execution_count": 325,
   "metadata": {},
   "outputs": [
    {
     "name": "stdout",
     "output_type": "stream",
     "text": [
      "                 Multiple Comparison of Means - Tukey HSD, FWER=0.05                  \n",
      "======================================================================================\n",
      "        group1                  group2          meandiff p-adj   lower   upper  reject\n",
      "--------------------------------------------------------------------------------------\n",
      "Blue Cross/Blue Shield                 Medicaid  -0.0743 0.0627 -0.1512  0.0026  False\n",
      "Blue Cross/Blue Shield                 Medicare   1.6744  0.001  1.5911  1.7578   True\n",
      "Blue Cross/Blue Shield Private Health Insurance  -0.0158    0.9 -0.1109  0.0793  False\n",
      "              Medicaid                 Medicare   1.7488  0.001  1.6953  1.8022   True\n",
      "              Medicaid Private Health Insurance   0.0585  0.142 -0.0119  0.1289  False\n",
      "              Medicare Private Health Insurance  -1.6902  0.001 -1.7676 -1.6129   True\n",
      "--------------------------------------------------------------------------------------\n"
     ]
    }
   ],
   "source": [
    "print(pairwise_tukeyhsd(df['length'],df['Payment Typology 1']))"
   ]
  },
  {
   "cell_type": "markdown",
   "metadata": {},
   "source": [
    "Blue Cross/Blue Shield  and Medicaid have no statistical difference."
   ]
  },
  {
   "cell_type": "code",
   "execution_count": 327,
   "metadata": {},
   "outputs": [],
   "source": [
    "df.drop('Length of Stay',inplace=True,axis=1)"
   ]
  },
  {
   "cell_type": "code",
   "execution_count": 328,
   "metadata": {},
   "outputs": [
    {
     "data": {
      "text/plain": [
       "0 to 17        30765\n",
       "50 to 69       21550\n",
       "30 to 49       12570\n",
       "70 or Older    11934\n",
       "18 to 29        5056\n",
       "Name: Age Group, dtype: int64"
      ]
     },
     "execution_count": 328,
     "metadata": {},
     "output_type": "execute_result"
    }
   ],
   "source": [
    "df['Age Group'].value_counts()"
   ]
  },
  {
   "cell_type": "code",
   "execution_count": 329,
   "metadata": {},
   "outputs": [],
   "source": [
    "#deal with age group to demean it\n",
    "\n",
    "for i in df['Age Group']:\n",
    "    if i == '0 to 17':\n",
    "        df['new_age'] = 17/2\n",
    "    if i == '50 to 69':\n",
    "        df['new_age'] = (69-50)/2\n",
    "    if i == '30 to 49':\n",
    "        df['new_age'] = (49-30)/2\n",
    "    if i == '70 or Older':\n",
    "        df['new_age'] = 70\n",
    "    if i == '18 to 29':\n",
    "        df['new_age'] = (29-18)/2"
   ]
  },
  {
   "cell_type": "code",
   "execution_count": 330,
   "metadata": {},
   "outputs": [],
   "source": [
    "df.loc[df['Age Group'] == '0 to 17','new_age'] = 17/2\n",
    "df.loc[df['Age Group'] == '50 to 69','new_age'] = (69-50)/2\n",
    "df.loc[df['Age Group'] == '30 to 49','new_age'] = (49-30)/2\n",
    "df.loc[df['Age Group'] == '70 or Older','new_age'] = 70\n",
    "df.loc[df['Age Group'] == '18 to 29','new_age'] = (29-18)/2"
   ]
  },
  {
   "cell_type": "code",
   "execution_count": 331,
   "metadata": {},
   "outputs": [],
   "source": [
    "df.drop('Age Group',inplace=True,axis=1)"
   ]
  },
  {
   "cell_type": "code",
   "execution_count": 332,
   "metadata": {},
   "outputs": [
    {
     "data": {
      "text/plain": [
       "9.5     34120\n",
       "8.5     30765\n",
       "70.0    11934\n",
       "5.5      5056\n",
       "Name: new_age, dtype: int64"
      ]
     },
     "execution_count": 332,
     "metadata": {},
     "output_type": "execute_result"
    }
   ],
   "source": [
    "df['new_age'].value_counts()"
   ]
  },
  {
   "cell_type": "code",
   "execution_count": 333,
   "metadata": {},
   "outputs": [
    {
     "data": {
      "text/plain": [
       "<matplotlib.axes._subplots.AxesSubplot at 0x14f1fc39b38>"
      ]
     },
     "execution_count": 333,
     "metadata": {},
     "output_type": "execute_result"
    },
    {
     "data": {
      "image/png": "[encoded data removed]",
      "text/plain": [
       "<Figure size 720x720 with 2 Axes>"
      ]
     },
     "metadata": {
      "needs_background": "light"
     },
     "output_type": "display_data"
    }
   ],
   "source": [
    "plt.figure(figsize=[10,10])\n",
    "sns.heatmap(df.corr(),annot=True)"
   ]
  },
  {
   "cell_type": "code",
   "execution_count": null,
   "metadata": {},
   "outputs": [],
   "source": [
    "#deal with binary varible \n",
    "#Gender,Abortion Edit Indicator,'APR Medical Surgical Description'Emergency Department Indicator"
   ]
  },
  {
   "cell_type": "code",
   "execution_count": 56,
   "metadata": {},
   "outputs": [
    {
     "data": {
      "text/plain": [
       "Diseases and Disorders of the Respiratory System    81875\n",
       "Name: APR MDC Description, dtype: int64"
      ]
     },
     "execution_count": 56,
     "metadata": {},
     "output_type": "execute_result"
    }
   ],
   "source": [
    "# deal with category varible \n",
    "#Race,Ethnicity,Type of Admission,Patient Disposition,Discharge Year,APR Severity of Illness Code,APR Risk of Mortality,Payment Typology 1"
   ]
  },
  {
   "cell_type": "code",
   "execution_count": 334,
   "metadata": {},
   "outputs": [
    {
     "data": {
      "text/plain": [
       "Y    73005\n",
       "N     8870\n",
       "Name: Emergency Department Indicator, dtype: int64"
      ]
     },
     "execution_count": 334,
     "metadata": {},
     "output_type": "execute_result"
    }
   ],
   "source": [
    "df['Emergency Department Indicator'].value_counts()"
   ]
  },
  {
   "cell_type": "code",
   "execution_count": 335,
   "metadata": {},
   "outputs": [],
   "source": [
    "#hot-encoding for category varible \n",
    "df= pd.get_dummies(df,columns = ['Race','Ethnicity','Type of Admission','Discharge Year','APR Severity of Illness Code','APR Risk of Mortality','Payment Typology 1'])"
   ]
  },
  {
   "cell_type": "code",
   "execution_count": 336,
   "metadata": {},
   "outputs": [],
   "source": [
    "cat_columns = ['Race_Black/African American','Ethnicity_Multi-ethnic','Type of Admission_Elective','Discharge Year_2014','APR Severity of Illness Code_1',\n",
    "'APR Risk of Mortality_Extreme','Payment Typology 1_Blue Cross/Blue Shield']\n",
    "df.drop(cat_columns, inplace=True, axis=1)"
   ]
  },
  {
   "cell_type": "code",
   "execution_count": 337,
   "metadata": {},
   "outputs": [],
   "source": [
    "#deal with binary varible \n",
    "binary = ['Gender','Abortion Edit Indicator','APR Medical Surgical Description','Emergency Department Indicator']\n",
    "i = 0\n",
    "for i in binary:\n",
    "    df[i] = df[i].astype('category')\n",
    "    df[i] = df[i].cat.codes"
   ]
  },
  {
   "cell_type": "code",
   "execution_count": 367,
   "metadata": {},
   "outputs": [
    {
     "name": "stdout",
     "output_type": "stream",
     "text": [
      "<class 'pandas.core.frame.DataFrame'>\n",
      "Int64Index: 81875 entries, 34 to 2343370\n",
      "Data columns (total 27 columns):\n",
      "Gender                                         81875 non-null int8\n",
      "APR Medical Surgical Description               81875 non-null int8\n",
      "Abortion Edit Indicator                        81875 non-null int8\n",
      "Emergency Department Indicator                 81875 non-null int8\n",
      "Total Charges                                  81875 non-null float64\n",
      "length                                         81875 non-null int64\n",
      "new_age                                        81875 non-null float64\n",
      "Race_Multi-racial                              81875 non-null uint8\n",
      "Race_Other Race                                81875 non-null uint8\n",
      "Race_White                                     81875 non-null uint8\n",
      "Ethnicity_Not Span/Hispanic                    81875 non-null uint8\n",
      "Ethnicity_Spanish/Hispanic                     81875 non-null uint8\n",
      "Ethnicity_Unknown                              81875 non-null uint8\n",
      "Type of Admission_Emergency                    81875 non-null uint8\n",
      "Type of Admission_Newborn                      81875 non-null uint8\n",
      "Type of Admission_Trauma                       81875 non-null uint8\n",
      "Type of Admission_Urgent                       81875 non-null uint8\n",
      "Discharge Year_2015                            81875 non-null uint8\n",
      "Discharge Year_2016                            81875 non-null uint8\n",
      "APR Severity of Illness Code_2                 81875 non-null uint8\n",
      "APR Severity of Illness Code_3                 81875 non-null uint8\n",
      "APR Severity of Illness Code_4                 81875 non-null uint8\n",
      "APR Risk of Mortality_Minor                    81875 non-null uint8\n",
      "APR Risk of Mortality_Moderate                 81875 non-null uint8\n",
      "Payment Typology 1_Medicaid                    81875 non-null uint8\n",
      "Payment Typology 1_Medicare                    81875 non-null uint8\n",
      "Payment Typology 1_Private Health Insurance    81875 non-null uint8\n",
      "dtypes: float64(2), int64(1), int8(4), uint8(20)\n",
      "memory usage: 4.4 MB\n"
     ]
    },
    {
     "data": {
      "text/plain": [
       "0    81593\n",
       "1      282\n",
       "Name: APR Medical Surgical Description, dtype: int64"
      ]
     },
     "execution_count": 367,
     "metadata": {},
     "output_type": "execute_result"
    }
   ],
   "source": [
    "df.info()\n"
   ]
  },
  {
   "cell_type": "code",
   "execution_count": 349,
   "metadata": {},
   "outputs": [],
   "source": [
    "columns = ['Payment Typology 1_Medicaid','Payment Typology 1_Medicare','Payment Typology 1_Private Health Insurance']\n",
    "df_fe = df.drop(columns,axis=1)"
   ]
  },
  {
   "cell_type": "code",
   "execution_count": 350,
   "metadata": {},
   "outputs": [],
   "source": [
    "def fit_linear_reg(X,Y):\n",
    "    #Fit linear regression model and return RSS and R squared values\n",
    "    model_k = linear_model.LinearRegression(fit_intercept = True)\n",
    "    model_k.fit(X,Y)\n",
    "    RSS = mean_squared_error(Y,model_k.predict(X)) * len(Y)\n",
    "    R_squared = model_k.score(X,Y)\n",
    "    return RSS, R_squared"
   ]
  },
  {
   "cell_type": "code",
   "execution_count": 351,
   "metadata": {},
   "outputs": [],
   "source": [
    "from tqdm import tnrange, tqdm_notebook\n",
    "import itertools\n",
    "from sklearn import linear_model\n",
    "from sklearn.metrics import mean_squared_error\n",
    "from statsmodels.formula.api import ols"
   ]
  },
  {
   "cell_type": "code",
   "execution_count": 353,
   "metadata": {},
   "outputs": [
    {
     "name": "stdout",
     "output_type": "stream",
     "text": [
      "<class 'pandas.core.frame.DataFrame'>\n",
      "Int64Index: 81875 entries, 34 to 2343370\n",
      "Data columns (total 26 columns):\n",
      "Gender                              81875 non-null int8\n",
      "APR Medical Surgical Description    81875 non-null int8\n",
      "Abortion Edit Indicator             81875 non-null int8\n",
      "Emergency Department Indicator      81875 non-null int8\n",
      "Total Charges                       81875 non-null float64\n",
      "length                              81875 non-null int64\n",
      "new_age                             81875 non-null float64\n",
      "Race_Multi-racial                   81875 non-null uint8\n",
      "Race_Other Race                     81875 non-null uint8\n",
      "Race_White                          81875 non-null uint8\n",
      "Ethnicity_Not Span/Hispanic         81875 non-null uint8\n",
      "Ethnicity_Spanish/Hispanic          81875 non-null uint8\n",
      "Ethnicity_Unknown                   81875 non-null uint8\n",
      "Type of Admission_Emergency         81875 non-null uint8\n",
      "Type of Admission_Newborn           81875 non-null uint8\n",
      "Type of Admission_Not Available     81875 non-null uint8\n",
      "Type of Admission_Trauma            81875 non-null uint8\n",
      "Type of Admission_Urgent            81875 non-null uint8\n",
      "Discharge Year_2015                 81875 non-null uint8\n",
      "Discharge Year_2016                 81875 non-null uint8\n",
      "APR Severity of Illness Code_2      81875 non-null uint8\n",
      "APR Severity of Illness Code_3      81875 non-null uint8\n",
      "APR Severity of Illness Code_4      81875 non-null uint8\n",
      "APR Risk of Mortality_Major         81875 non-null uint8\n",
      "APR Risk of Mortality_Minor         81875 non-null uint8\n",
      "APR Risk of Mortality_Moderate      81875 non-null uint8\n",
      "dtypes: float64(2), int64(1), int8(4), uint8(19)\n",
      "memory usage: 4.3 MB\n"
     ]
    }
   ],
   "source": [
    "df_fe.info()"
   ]
  },
  {
   "cell_type": "code",
   "execution_count": 356,
   "metadata": {},
   "outputs": [],
   "source": [
    "#Initialization variables\n",
    "Y = df_fe.length\n",
    "X = df_fe.drop(columns = 'length',axis = 1)\n",
    "k = 25\n",
    "\n",
    "remaining_features = list(X.columns.values)\n",
    "features = []\n",
    "RSS_list, R_squared_list = [np.inf], [np.inf] #Due to 1 indexing of the loop...\n",
    "features_list = dict()\n",
    "\n",
    "for i in range(1,k+1):\n",
    "    best_RSS = np.inf\n",
    "    \n",
    "    for combo in itertools.combinations(remaining_features,1):\n",
    "\n",
    "            RSS = fit_linear_reg(X[list(combo) + features],Y)   #Store temp result \n",
    "\n",
    "            if RSS[0] < best_RSS:\n",
    "                best_RSS = RSS[0]\n",
    "                best_R_squared = RSS[1] \n",
    "                best_feature = combo[0]\n",
    "\n",
    "    #Updating variables for next loop\n",
    "    features.append(best_feature)\n",
    "    remaining_features.remove(best_feature)\n",
    "    \n",
    "    #Saving values for plotting\n",
    "    RSS_list.append(best_RSS)\n",
    "    R_squared_list.append(best_R_squared)\n",
    "    features_list[i] = features.copy()"
   ]
  },
  {
   "cell_type": "code",
   "execution_count": 360,
   "metadata": {},
   "outputs": [
    {
     "name": "stdout",
     "output_type": "stream",
     "text": [
      "Forward stepwise subset selection\n",
      "Number of features | Features | RSS\n"
     ]
    },
    {
     "data": {
      "text/plain": [
       "[(1, ['Total Charges'], 198530.0),\n",
       " (2, ['Total Charges', 'APR Risk of Mortality_Minor'], 191570.0),\n",
       " (3,\n",
       "  ['Total Charges', 'APR Risk of Mortality_Minor', 'Discharge Year_2016'],\n",
       "  189122.0),\n",
       " (4,\n",
       "  ['Total Charges',\n",
       "   'APR Risk of Mortality_Minor',\n",
       "   'Discharge Year_2016',\n",
       "   'new_age'],\n",
       "  187302.0),\n",
       " (5,\n",
       "  ['Total Charges',\n",
       "   'APR Risk of Mortality_Minor',\n",
       "   'Discharge Year_2016',\n",
       "   'new_age',\n",
       "   'Gender'],\n",
       "  186013.0),\n",
       " (6,\n",
       "  ['Total Charges',\n",
       "   'APR Risk of Mortality_Minor',\n",
       "   'Discharge Year_2016',\n",
       "   'new_age',\n",
       "   'Gender',\n",
       "   'APR Severity of Illness Code_3'],\n",
       "  184921.0),\n",
       " (7,\n",
       "  ['Total Charges',\n",
       "   'APR Risk of Mortality_Minor',\n",
       "   'Discharge Year_2016',\n",
       "   'new_age',\n",
       "   'Gender',\n",
       "   'APR Severity of Illness Code_3',\n",
       "   'Race_White'],\n",
       "  184190.0),\n",
       " (8,\n",
       "  ['Total Charges',\n",
       "   'APR Risk of Mortality_Minor',\n",
       "   'Discharge Year_2016',\n",
       "   'new_age',\n",
       "   'Gender',\n",
       "   'APR Severity of Illness Code_3',\n",
       "   'Race_White',\n",
       "   'Ethnicity_Unknown'],\n",
       "  183636.0),\n",
       " (9,\n",
       "  ['Total Charges',\n",
       "   'APR Risk of Mortality_Minor',\n",
       "   'Discharge Year_2016',\n",
       "   'new_age',\n",
       "   'Gender',\n",
       "   'APR Severity of Illness Code_3',\n",
       "   'Race_White',\n",
       "   'Ethnicity_Unknown',\n",
       "   'Discharge Year_2015'],\n",
       "  183119.0),\n",
       " (10,\n",
       "  ['Total Charges',\n",
       "   'APR Risk of Mortality_Minor',\n",
       "   'Discharge Year_2016',\n",
       "   'new_age',\n",
       "   'Gender',\n",
       "   'APR Severity of Illness Code_3',\n",
       "   'Race_White',\n",
       "   'Ethnicity_Unknown',\n",
       "   'Discharge Year_2015',\n",
       "   'APR Severity of Illness Code_2'],\n",
       "  182722.0),\n",
       " (11,\n",
       "  ['Total Charges',\n",
       "   'APR Risk of Mortality_Minor',\n",
       "   'Discharge Year_2016',\n",
       "   'new_age',\n",
       "   'Gender',\n",
       "   'APR Severity of Illness Code_3',\n",
       "   'Race_White',\n",
       "   'Ethnicity_Unknown',\n",
       "   'Discharge Year_2015',\n",
       "   'APR Severity of Illness Code_2',\n",
       "   'APR Risk of Mortality_Moderate'],\n",
       "  182327.0),\n",
       " (12,\n",
       "  ['Total Charges',\n",
       "   'APR Risk of Mortality_Minor',\n",
       "   'Discharge Year_2016',\n",
       "   'new_age',\n",
       "   'Gender',\n",
       "   'APR Severity of Illness Code_3',\n",
       "   'Race_White',\n",
       "   'Ethnicity_Unknown',\n",
       "   'Discharge Year_2015',\n",
       "   'APR Severity of Illness Code_2',\n",
       "   'APR Risk of Mortality_Moderate',\n",
       "   'Race_Other Race'],\n",
       "  181981.0),\n",
       " (13,\n",
       "  ['Total Charges',\n",
       "   'APR Risk of Mortality_Minor',\n",
       "   'Discharge Year_2016',\n",
       "   'new_age',\n",
       "   'Gender',\n",
       "   'APR Severity of Illness Code_3',\n",
       "   'Race_White',\n",
       "   'Ethnicity_Unknown',\n",
       "   'Discharge Year_2015',\n",
       "   'APR Severity of Illness Code_2',\n",
       "   'APR Risk of Mortality_Moderate',\n",
       "   'Race_Other Race',\n",
       "   'APR Medical Surgical Description'],\n",
       "  181772.0),\n",
       " (14,\n",
       "  ['Total Charges',\n",
       "   'APR Risk of Mortality_Minor',\n",
       "   'Discharge Year_2016',\n",
       "   'new_age',\n",
       "   'Gender',\n",
       "   'APR Severity of Illness Code_3',\n",
       "   'Race_White',\n",
       "   'Ethnicity_Unknown',\n",
       "   'Discharge Year_2015',\n",
       "   'APR Severity of Illness Code_2',\n",
       "   'APR Risk of Mortality_Moderate',\n",
       "   'Race_Other Race',\n",
       "   'APR Medical Surgical Description',\n",
       "   'Race_Multi-racial'],\n",
       "  181579.0),\n",
       " (15,\n",
       "  ['Total Charges',\n",
       "   'APR Risk of Mortality_Minor',\n",
       "   'Discharge Year_2016',\n",
       "   'new_age',\n",
       "   'Gender',\n",
       "   'APR Severity of Illness Code_3',\n",
       "   'Race_White',\n",
       "   'Ethnicity_Unknown',\n",
       "   'Discharge Year_2015',\n",
       "   'APR Severity of Illness Code_2',\n",
       "   'APR Risk of Mortality_Moderate',\n",
       "   'Race_Other Race',\n",
       "   'APR Medical Surgical Description',\n",
       "   'Race_Multi-racial',\n",
       "   'Type of Admission_Emergency'],\n",
       "  181408.0),\n",
       " (16,\n",
       "  ['Total Charges',\n",
       "   'APR Risk of Mortality_Minor',\n",
       "   'Discharge Year_2016',\n",
       "   'new_age',\n",
       "   'Gender',\n",
       "   'APR Severity of Illness Code_3',\n",
       "   'Race_White',\n",
       "   'Ethnicity_Unknown',\n",
       "   'Discharge Year_2015',\n",
       "   'APR Severity of Illness Code_2',\n",
       "   'APR Risk of Mortality_Moderate',\n",
       "   'Race_Other Race',\n",
       "   'APR Medical Surgical Description',\n",
       "   'Race_Multi-racial',\n",
       "   'Type of Admission_Emergency',\n",
       "   'Type of Admission_Urgent'],\n",
       "  181307.0),\n",
       " (17,\n",
       "  ['Total Charges',\n",
       "   'APR Risk of Mortality_Minor',\n",
       "   'Discharge Year_2016',\n",
       "   'new_age',\n",
       "   'Gender',\n",
       "   'APR Severity of Illness Code_3',\n",
       "   'Race_White',\n",
       "   'Ethnicity_Unknown',\n",
       "   'Discharge Year_2015',\n",
       "   'APR Severity of Illness Code_2',\n",
       "   'APR Risk of Mortality_Moderate',\n",
       "   'Race_Other Race',\n",
       "   'APR Medical Surgical Description',\n",
       "   'Race_Multi-racial',\n",
       "   'Type of Admission_Emergency',\n",
       "   'Type of Admission_Urgent',\n",
       "   'Emergency Department Indicator'],\n",
       "  181219.0),\n",
       " (18,\n",
       "  ['Total Charges',\n",
       "   'APR Risk of Mortality_Minor',\n",
       "   'Discharge Year_2016',\n",
       "   'new_age',\n",
       "   'Gender',\n",
       "   'APR Severity of Illness Code_3',\n",
       "   'Race_White',\n",
       "   'Ethnicity_Unknown',\n",
       "   'Discharge Year_2015',\n",
       "   'APR Severity of Illness Code_2',\n",
       "   'APR Risk of Mortality_Moderate',\n",
       "   'Race_Other Race',\n",
       "   'APR Medical Surgical Description',\n",
       "   'Race_Multi-racial',\n",
       "   'Type of Admission_Emergency',\n",
       "   'Type of Admission_Urgent',\n",
       "   'Emergency Department Indicator',\n",
       "   'APR Severity of Illness Code_4'],\n",
       "  181134.0),\n",
       " (19,\n",
       "  ['Total Charges',\n",
       "   'APR Risk of Mortality_Minor',\n",
       "   'Discharge Year_2016',\n",
       "   'new_age',\n",
       "   'Gender',\n",
       "   'APR Severity of Illness Code_3',\n",
       "   'Race_White',\n",
       "   'Ethnicity_Unknown',\n",
       "   'Discharge Year_2015',\n",
       "   'APR Severity of Illness Code_2',\n",
       "   'APR Risk of Mortality_Moderate',\n",
       "   'Race_Other Race',\n",
       "   'APR Medical Surgical Description',\n",
       "   'Race_Multi-racial',\n",
       "   'Type of Admission_Emergency',\n",
       "   'Type of Admission_Urgent',\n",
       "   'Emergency Department Indicator',\n",
       "   'APR Severity of Illness Code_4',\n",
       "   'Ethnicity_Not Span/Hispanic'],\n",
       "  181084.0),\n",
       " (20,\n",
       "  ['Total Charges',\n",
       "   'APR Risk of Mortality_Minor',\n",
       "   'Discharge Year_2016',\n",
       "   'new_age',\n",
       "   'Gender',\n",
       "   'APR Severity of Illness Code_3',\n",
       "   'Race_White',\n",
       "   'Ethnicity_Unknown',\n",
       "   'Discharge Year_2015',\n",
       "   'APR Severity of Illness Code_2',\n",
       "   'APR Risk of Mortality_Moderate',\n",
       "   'Race_Other Race',\n",
       "   'APR Medical Surgical Description',\n",
       "   'Race_Multi-racial',\n",
       "   'Type of Admission_Emergency',\n",
       "   'Type of Admission_Urgent',\n",
       "   'Emergency Department Indicator',\n",
       "   'APR Severity of Illness Code_4',\n",
       "   'Ethnicity_Not Span/Hispanic',\n",
       "   'Ethnicity_Spanish/Hispanic'],\n",
       "  181057.0),\n",
       " (21,\n",
       "  ['Total Charges',\n",
       "   'APR Risk of Mortality_Minor',\n",
       "   'Discharge Year_2016',\n",
       "   'new_age',\n",
       "   'Gender',\n",
       "   'APR Severity of Illness Code_3',\n",
       "   'Race_White',\n",
       "   'Ethnicity_Unknown',\n",
       "   'Discharge Year_2015',\n",
       "   'APR Severity of Illness Code_2',\n",
       "   'APR Risk of Mortality_Moderate',\n",
       "   'Race_Other Race',\n",
       "   'APR Medical Surgical Description',\n",
       "   'Race_Multi-racial',\n",
       "   'Type of Admission_Emergency',\n",
       "   'Type of Admission_Urgent',\n",
       "   'Emergency Department Indicator',\n",
       "   'APR Severity of Illness Code_4',\n",
       "   'Ethnicity_Not Span/Hispanic',\n",
       "   'Ethnicity_Spanish/Hispanic',\n",
       "   'Type of Admission_Not Available'],\n",
       "  181055.0),\n",
       " (22,\n",
       "  ['Total Charges',\n",
       "   'APR Risk of Mortality_Minor',\n",
       "   'Discharge Year_2016',\n",
       "   'new_age',\n",
       "   'Gender',\n",
       "   'APR Severity of Illness Code_3',\n",
       "   'Race_White',\n",
       "   'Ethnicity_Unknown',\n",
       "   'Discharge Year_2015',\n",
       "   'APR Severity of Illness Code_2',\n",
       "   'APR Risk of Mortality_Moderate',\n",
       "   'Race_Other Race',\n",
       "   'APR Medical Surgical Description',\n",
       "   'Race_Multi-racial',\n",
       "   'Type of Admission_Emergency',\n",
       "   'Type of Admission_Urgent',\n",
       "   'Emergency Department Indicator',\n",
       "   'APR Severity of Illness Code_4',\n",
       "   'Ethnicity_Not Span/Hispanic',\n",
       "   'Ethnicity_Spanish/Hispanic',\n",
       "   'Type of Admission_Not Available',\n",
       "   'Abortion Edit Indicator'],\n",
       "  181053.0),\n",
       " (23,\n",
       "  ['Total Charges',\n",
       "   'APR Risk of Mortality_Minor',\n",
       "   'Discharge Year_2016',\n",
       "   'new_age',\n",
       "   'Gender',\n",
       "   'APR Severity of Illness Code_3',\n",
       "   'Race_White',\n",
       "   'Ethnicity_Unknown',\n",
       "   'Discharge Year_2015',\n",
       "   'APR Severity of Illness Code_2',\n",
       "   'APR Risk of Mortality_Moderate',\n",
       "   'Race_Other Race',\n",
       "   'APR Medical Surgical Description',\n",
       "   'Race_Multi-racial',\n",
       "   'Type of Admission_Emergency',\n",
       "   'Type of Admission_Urgent',\n",
       "   'Emergency Department Indicator',\n",
       "   'APR Severity of Illness Code_4',\n",
       "   'Ethnicity_Not Span/Hispanic',\n",
       "   'Ethnicity_Spanish/Hispanic',\n",
       "   'Type of Admission_Not Available',\n",
       "   'Abortion Edit Indicator',\n",
       "   'Type of Admission_Newborn'],\n",
       "  181051.0),\n",
       " (24,\n",
       "  ['Total Charges',\n",
       "   'APR Risk of Mortality_Minor',\n",
       "   'Discharge Year_2016',\n",
       "   'new_age',\n",
       "   'Gender',\n",
       "   'APR Severity of Illness Code_3',\n",
       "   'Race_White',\n",
       "   'Ethnicity_Unknown',\n",
       "   'Discharge Year_2015',\n",
       "   'APR Severity of Illness Code_2',\n",
       "   'APR Risk of Mortality_Moderate',\n",
       "   'Race_Other Race',\n",
       "   'APR Medical Surgical Description',\n",
       "   'Race_Multi-racial',\n",
       "   'Type of Admission_Emergency',\n",
       "   'Type of Admission_Urgent',\n",
       "   'Emergency Department Indicator',\n",
       "   'APR Severity of Illness Code_4',\n",
       "   'Ethnicity_Not Span/Hispanic',\n",
       "   'Ethnicity_Spanish/Hispanic',\n",
       "   'Type of Admission_Not Available',\n",
       "   'Abortion Edit Indicator',\n",
       "   'Type of Admission_Newborn',\n",
       "   'APR Risk of Mortality_Major'],\n",
       "  181049.0)]"
      ]
     },
     "metadata": {},
     "output_type": "display_data"
    }
   ],
   "source": [
    "print('Forward stepwise subset selection')\n",
    "print('Number of features |', 'Features |', 'RSS')\n",
    "display([(i,features_list[i], round(RSS_list[i])) for i in range(1,25)])"
   ]
  },
  {
   "cell_type": "code",
   "execution_count": 358,
   "metadata": {},
   "outputs": [],
   "source": [
    "df1 = pd.concat([pd.DataFrame({'features':features_list}),pd.DataFrame({'RSS':RSS_list, 'R_squared': R_squared_list})], axis=1, join='inner')\n",
    "df1['numb_features'] = df1.index"
   ]
  },
  {
   "cell_type": "code",
   "execution_count": 359,
   "metadata": {},
   "outputs": [],
   "source": [
    "#Initializing useful variables\n",
    "m = len(Y)\n",
    "p = 34\n",
    "hat_sigma_squared = (1/(m - p -1)) * min(df1['RSS'])\n",
    "\n",
    "#Computing\n",
    "df1['C_p'] = (1/m) * (df1['RSS'] + 2 * df1['numb_features'] * hat_sigma_squared )\n",
    "df1['AIC'] = (1/(m*hat_sigma_squared)) * (df1['RSS'] + 2 * df1['numb_features'] * hat_sigma_squared )\n",
    "df1['BIC'] = (1/(m*hat_sigma_squared)) * (df1['RSS'] +  np.log(m) * df1['numb_features'] * hat_sigma_squared )\n",
    "df1['R_squared_adj'] = 1 - ( (1 - df1['R_squared'])*(m-1)/(m-df1['numb_features'] -1))\n"
   ]
  },
  {
   "cell_type": "code",
   "execution_count": 347,
   "metadata": {},
   "outputs": [
    {
     "data": {
      "image/png": "[encoded data removed]",
      "text/plain": [
       "<Figure size 1296x432 with 4 Axes>"
      ]
     },
     "metadata": {
      "needs_background": "light"
     },
     "output_type": "display_data"
    }
   ],
   "source": [
    "variables = ['C_p', 'AIC','BIC','R_squared_adj']\n",
    "fig = plt.figure(figsize = (18,6))\n",
    "\n",
    "for i,v in enumerate(variables):\n",
    "    ax = fig.add_subplot(1, 4, i+1)\n",
    "    ax.plot(df1['numb_features'],df1[v], color = 'lightblue')\n",
    "    ax.scatter(df1['numb_features'],df1[v], color = 'darkblue')\n",
    "    if v == 'R_squared_adj':\n",
    "        ax.plot(df1[v].idxmax(),df1[v].max(), marker = 'x', markersize = 20)\n",
    "    else:\n",
    "        ax.plot(df1[v].idxmin(),df1[v].min(), marker = 'x', markersize = 20)\n",
    "    ax.set_xlabel('Number of predictors')\n",
    "    ax.set_ylabel(v)\n",
    "\n",
    "fig.suptitle('Subset selection using C_p, AIC, BIC, Adjusted R2', fontsize = 16)\n",
    "plt.show()"
   ]
  },
  {
   "cell_type": "code",
   "execution_count": 362,
   "metadata": {},
   "outputs": [
    {
     "name": "stdout",
     "output_type": "stream",
     "text": [
      "<class 'pandas.core.frame.DataFrame'>\n",
      "Int64Index: 81875 entries, 34 to 2343370\n",
      "Data columns (total 26 columns):\n",
      "Gender                              81875 non-null int8\n",
      "APR Medical Surgical Description    81875 non-null int8\n",
      "Abortion Edit Indicator             81875 non-null int8\n",
      "Emergency Department Indicator      81875 non-null int8\n",
      "Total Charges                       81875 non-null float64\n",
      "length                              81875 non-null int64\n",
      "new_age                             81875 non-null float64\n",
      "Race_Multi-racial                   81875 non-null uint8\n",
      "Race_Other Race                     81875 non-null uint8\n",
      "Race_White                          81875 non-null uint8\n",
      "Ethnicity_Not Span/Hispanic         81875 non-null uint8\n",
      "Ethnicity_Spanish/Hispanic          81875 non-null uint8\n",
      "Ethnicity_Unknown                   81875 non-null uint8\n",
      "Type of Admission_Emergency         81875 non-null uint8\n",
      "Type of Admission_Newborn           81875 non-null uint8\n",
      "Type of Admission_Not Available     81875 non-null uint8\n",
      "Type of Admission_Trauma            81875 non-null uint8\n",
      "Type of Admission_Urgent            81875 non-null uint8\n",
      "Discharge Year_2015                 81875 non-null uint8\n",
      "Discharge Year_2016                 81875 non-null uint8\n",
      "APR Severity of Illness Code_2      81875 non-null uint8\n",
      "APR Severity of Illness Code_3      81875 non-null uint8\n",
      "APR Severity of Illness Code_4      81875 non-null uint8\n",
      "APR Risk of Mortality_Major         81875 non-null uint8\n",
      "APR Risk of Mortality_Minor         81875 non-null uint8\n",
      "APR Risk of Mortality_Moderate      81875 non-null uint8\n",
      "dtypes: float64(2), int64(1), int8(4), uint8(19)\n",
      "memory usage: 4.3 MB\n"
     ]
    }
   ],
   "source": [
    "df_fe.info()\n"
   ]
  },
  {
   "cell_type": "code",
   "execution_count": 364,
   "metadata": {},
   "outputs": [],
   "source": [
    "\n",
    "columns = ['Type of Admission_Not Available','APR Risk of Mortality_Major']\n",
    "df = df.drop(columns,axis=1)"
   ]
  },
  {
   "cell_type": "code",
   "execution_count": 95,
   "metadata": {},
   "outputs": [],
   "source": [
    "import statsmodels.api as sm"
   ]
  },
  {
   "cell_type": "code",
   "execution_count": 365,
   "metadata": {},
   "outputs": [
    {
     "name": "stderr",
     "output_type": "stream",
     "text": [
      "C:\\Users\\Naixin\\Anaconda3\\lib\\site-packages\\numpy\\core\\fromnumeric.py:2389: FutureWarning: Method .ptp is deprecated and will be removed in a future version. Use numpy.ptp instead.\n",
      "  return ptp(axis=axis, out=out, **kwargs)\n"
     ]
    },
    {
     "data": {
      "text/html": [
       "<table class=\"simpletable\">\n",
       "<caption>OLS Regression Results</caption>\n",
       "<tr>\n",
       "  <th>Dep. Variable:</th>         <td>length</td>      <th>  R-squared:         </th>  <td>   0.668</td>  \n",
       "</tr>\n",
       "<tr>\n",
       "  <th>Model:</th>                   <td>OLS</td>       <th>  Adj. R-squared:    </th>  <td>   0.668</td>  \n",
       "</tr>\n",
       "<tr>\n",
       "  <th>Method:</th>             <td>Least Squares</td>  <th>  F-statistic:       </th>  <td>   6335.</td>  \n",
       "</tr>\n",
       "<tr>\n",
       "  <th>Date:</th>             <td>Thu, 17 Oct 2019</td> <th>  Prob (F-statistic):</th>   <td>  0.00</td>   \n",
       "</tr>\n",
       "<tr>\n",
       "  <th>Time:</th>                 <td>23:16:50</td>     <th>  Log-Likelihood:    </th> <td>-1.4828e+05</td>\n",
       "</tr>\n",
       "<tr>\n",
       "  <th>No. Observations:</th>      <td> 81875</td>      <th>  AIC:               </th>  <td>2.966e+05</td> \n",
       "</tr>\n",
       "<tr>\n",
       "  <th>Df Residuals:</th>          <td> 81848</td>      <th>  BIC:               </th>  <td>2.969e+05</td> \n",
       "</tr>\n",
       "<tr>\n",
       "  <th>Df Model:</th>              <td>    26</td>      <th>                     </th>      <td> </td>     \n",
       "</tr>\n",
       "<tr>\n",
       "  <th>Covariance Type:</th>      <td>nonrobust</td>    <th>                     </th>      <td> </td>     \n",
       "</tr>\n",
       "</table>\n",
       "<table class=\"simpletable\">\n",
       "<tr>\n",
       "                       <td></td>                          <th>coef</th>     <th>std err</th>      <th>t</th>      <th>P>|t|</th>  <th>[0.025</th>    <th>0.975]</th>  \n",
       "</tr>\n",
       "<tr>\n",
       "  <th>const</th>                                       <td>    1.5030</td> <td>    0.101</td> <td>   14.916</td> <td> 0.000</td> <td>    1.306</td> <td>    1.701</td>\n",
       "</tr>\n",
       "<tr>\n",
       "  <th>Gender</th>                                      <td>   -0.2216</td> <td>    0.011</td> <td>  -20.568</td> <td> 0.000</td> <td>   -0.243</td> <td>   -0.200</td>\n",
       "</tr>\n",
       "<tr>\n",
       "  <th>APR Medical Surgical Description</th>            <td>   -0.9679</td> <td>    0.090</td> <td>  -10.725</td> <td> 0.000</td> <td>   -1.145</td> <td>   -0.791</td>\n",
       "</tr>\n",
       "<tr>\n",
       "  <th>Abortion Edit Indicator</th>                     <td>    0.8870</td> <td>    0.857</td> <td>    1.035</td> <td> 0.301</td> <td>   -0.792</td> <td>    2.566</td>\n",
       "</tr>\n",
       "<tr>\n",
       "  <th>Emergency Department Indicator</th>              <td>    0.1018</td> <td>    0.019</td> <td>    5.485</td> <td> 0.000</td> <td>    0.065</td> <td>    0.138</td>\n",
       "</tr>\n",
       "<tr>\n",
       "  <th>Total Charges</th>                               <td> 8.899e-05</td> <td> 2.75e-07</td> <td>  323.546</td> <td> 0.000</td> <td> 8.84e-05</td> <td> 8.95e-05</td>\n",
       "</tr>\n",
       "<tr>\n",
       "  <th>new_age</th>                                     <td>    0.0029</td> <td>    0.000</td> <td>    8.888</td> <td> 0.000</td> <td>    0.002</td> <td>    0.004</td>\n",
       "</tr>\n",
       "<tr>\n",
       "  <th>Race_Multi-racial</th>                           <td>   -0.4928</td> <td>    0.064</td> <td>   -7.697</td> <td> 0.000</td> <td>   -0.618</td> <td>   -0.367</td>\n",
       "</tr>\n",
       "<tr>\n",
       "  <th>Race_Other Race</th>                             <td>   -0.1246</td> <td>    0.014</td> <td>   -8.664</td> <td> 0.000</td> <td>   -0.153</td> <td>   -0.096</td>\n",
       "</tr>\n",
       "<tr>\n",
       "  <th>Race_White</th>                                  <td>    0.1442</td> <td>    0.014</td> <td>   10.620</td> <td> 0.000</td> <td>    0.118</td> <td>    0.171</td>\n",
       "</tr>\n",
       "<tr>\n",
       "  <th>Ethnicity_Not Span/Hispanic</th>                 <td>    0.3253</td> <td>    0.074</td> <td>    4.373</td> <td> 0.000</td> <td>    0.179</td> <td>    0.471</td>\n",
       "</tr>\n",
       "<tr>\n",
       "  <th>Ethnicity_Spanish/Hispanic</th>                  <td>    0.2452</td> <td>    0.075</td> <td>    3.282</td> <td> 0.001</td> <td>    0.099</td> <td>    0.392</td>\n",
       "</tr>\n",
       "<tr>\n",
       "  <th>Ethnicity_Unknown</th>                           <td>    0.6956</td> <td>    0.077</td> <td>    8.988</td> <td> 0.000</td> <td>    0.544</td> <td>    0.847</td>\n",
       "</tr>\n",
       "<tr>\n",
       "  <th>Type of Admission_Emergency</th>                 <td>   -0.6610</td> <td>    0.059</td> <td>  -11.239</td> <td> 0.000</td> <td>   -0.776</td> <td>   -0.546</td>\n",
       "</tr>\n",
       "<tr>\n",
       "  <th>Type of Admission_Newborn</th>                   <td>   -0.9151</td> <td>    1.048</td> <td>   -0.873</td> <td> 0.383</td> <td>   -2.970</td> <td>    1.140</td>\n",
       "</tr>\n",
       "<tr>\n",
       "  <th>Type of Admission_Trauma</th>                    <td>   -0.2897</td> <td>    0.527</td> <td>   -0.550</td> <td> 0.582</td> <td>   -1.322</td> <td>    0.742</td>\n",
       "</tr>\n",
       "<tr>\n",
       "  <th>Type of Admission_Urgent</th>                    <td>   -0.4343</td> <td>    0.065</td> <td>   -6.644</td> <td> 0.000</td> <td>   -0.562</td> <td>   -0.306</td>\n",
       "</tr>\n",
       "<tr>\n",
       "  <th>Discharge Year_2015</th>                         <td>   -0.1814</td> <td>    0.012</td> <td>  -15.111</td> <td> 0.000</td> <td>   -0.205</td> <td>   -0.158</td>\n",
       "</tr>\n",
       "<tr>\n",
       "  <th>Discharge Year_2016</th>                         <td>   -0.4206</td> <td>    0.013</td> <td>  -31.669</td> <td> 0.000</td> <td>   -0.447</td> <td>   -0.395</td>\n",
       "</tr>\n",
       "<tr>\n",
       "  <th>APR Severity of Illness Code_2</th>              <td>    0.1754</td> <td>    0.012</td> <td>   14.206</td> <td> 0.000</td> <td>    0.151</td> <td>    0.200</td>\n",
       "</tr>\n",
       "<tr>\n",
       "  <th>APR Severity of Illness Code_3</th>              <td>    0.4682</td> <td>    0.023</td> <td>   20.233</td> <td> 0.000</td> <td>    0.423</td> <td>    0.514</td>\n",
       "</tr>\n",
       "<tr>\n",
       "  <th>APR Severity of Illness Code_4</th>              <td>    0.2830</td> <td>    0.045</td> <td>    6.222</td> <td> 0.000</td> <td>    0.194</td> <td>    0.372</td>\n",
       "</tr>\n",
       "<tr>\n",
       "  <th>APR Risk of Mortality_Minor</th>                 <td>   -0.3333</td> <td>    0.028</td> <td>  -11.828</td> <td> 0.000</td> <td>   -0.389</td> <td>   -0.278</td>\n",
       "</tr>\n",
       "<tr>\n",
       "  <th>APR Risk of Mortality_Moderate</th>              <td>   -0.2286</td> <td>    0.024</td> <td>   -9.338</td> <td> 0.000</td> <td>   -0.277</td> <td>   -0.181</td>\n",
       "</tr>\n",
       "<tr>\n",
       "  <th>Payment Typology 1_Medicaid</th>                 <td>    0.1520</td> <td>    0.018</td> <td>    8.223</td> <td> 0.000</td> <td>    0.116</td> <td>    0.188</td>\n",
       "</tr>\n",
       "<tr>\n",
       "  <th>Payment Typology 1_Medicare</th>                 <td>    0.4799</td> <td>    0.022</td> <td>   21.470</td> <td> 0.000</td> <td>    0.436</td> <td>    0.524</td>\n",
       "</tr>\n",
       "<tr>\n",
       "  <th>Payment Typology 1_Private Health Insurance</th> <td>   -0.0641</td> <td>    0.022</td> <td>   -2.865</td> <td> 0.004</td> <td>   -0.108</td> <td>   -0.020</td>\n",
       "</tr>\n",
       "</table>\n",
       "<table class=\"simpletable\">\n",
       "<tr>\n",
       "  <th>Omnibus:</th>       <td>28575.555</td> <th>  Durbin-Watson:     </th>  <td>   1.509</td> \n",
       "</tr>\n",
       "<tr>\n",
       "  <th>Prob(Omnibus):</th>  <td> 0.000</td>   <th>  Jarque-Bera (JB):  </th> <td>919241.684</td>\n",
       "</tr>\n",
       "<tr>\n",
       "  <th>Skew:</th>           <td> 1.048</td>   <th>  Prob(JB):          </th>  <td>    0.00</td> \n",
       "</tr>\n",
       "<tr>\n",
       "  <th>Kurtosis:</th>       <td>19.281</td>   <th>  Cond. No.          </th>  <td>6.31e+06</td> \n",
       "</tr>\n",
       "</table><br/><br/>Warnings:<br/>[1] Standard Errors assume that the covariance matrix of the errors is correctly specified.<br/>[2] The condition number is large, 6.31e+06. This might indicate that there are<br/>strong multicollinearity or other numerical problems."
      ],
      "text/plain": [
       "<class 'statsmodels.iolib.summary.Summary'>\n",
       "\"\"\"\n",
       "                            OLS Regression Results                            \n",
       "==============================================================================\n",
       "Dep. Variable:                 length   R-squared:                       0.668\n",
       "Model:                            OLS   Adj. R-squared:                  0.668\n",
       "Method:                 Least Squares   F-statistic:                     6335.\n",
       "Date:                Thu, 17 Oct 2019   Prob (F-statistic):               0.00\n",
       "Time:                        23:16:50   Log-Likelihood:            -1.4828e+05\n",
       "No. Observations:               81875   AIC:                         2.966e+05\n",
       "Df Residuals:                   81848   BIC:                         2.969e+05\n",
       "Df Model:                          26                                         \n",
       "Covariance Type:            nonrobust                                         \n",
       "===============================================================================================================\n",
       "                                                  coef    std err          t      P>|t|      [0.025      0.975]\n",
       "---------------------------------------------------------------------------------------------------------------\n",
       "const                                           1.5030      0.101     14.916      0.000       1.306       1.701\n",
       "Gender                                         -0.2216      0.011    -20.568      0.000      -0.243      -0.200\n",
       "APR Medical Surgical Description               -0.9679      0.090    -10.725      0.000      -1.145      -0.791\n",
       "Abortion Edit Indicator                         0.8870      0.857      1.035      0.301      -0.792       2.566\n",
       "Emergency Department Indicator                  0.1018      0.019      5.485      0.000       0.065       0.138\n",
       "Total Charges                                8.899e-05   2.75e-07    323.546      0.000    8.84e-05    8.95e-05\n",
       "new_age                                         0.0029      0.000      8.888      0.000       0.002       0.004\n",
       "Race_Multi-racial                              -0.4928      0.064     -7.697      0.000      -0.618      -0.367\n",
       "Race_Other Race                                -0.1246      0.014     -8.664      0.000      -0.153      -0.096\n",
       "Race_White                                      0.1442      0.014     10.620      0.000       0.118       0.171\n",
       "Ethnicity_Not Span/Hispanic                     0.3253      0.074      4.373      0.000       0.179       0.471\n",
       "Ethnicity_Spanish/Hispanic                      0.2452      0.075      3.282      0.001       0.099       0.392\n",
       "Ethnicity_Unknown                               0.6956      0.077      8.988      0.000       0.544       0.847\n",
       "Type of Admission_Emergency                    -0.6610      0.059    -11.239      0.000      -0.776      -0.546\n",
       "Type of Admission_Newborn                      -0.9151      1.048     -0.873      0.383      -2.970       1.140\n",
       "Type of Admission_Trauma                       -0.2897      0.527     -0.550      0.582      -1.322       0.742\n",
       "Type of Admission_Urgent                       -0.4343      0.065     -6.644      0.000      -0.562      -0.306\n",
       "Discharge Year_2015                            -0.1814      0.012    -15.111      0.000      -0.205      -0.158\n",
       "Discharge Year_2016                            -0.4206      0.013    -31.669      0.000      -0.447      -0.395\n",
       "APR Severity of Illness Code_2                  0.1754      0.012     14.206      0.000       0.151       0.200\n",
       "APR Severity of Illness Code_3                  0.4682      0.023     20.233      0.000       0.423       0.514\n",
       "APR Severity of Illness Code_4                  0.2830      0.045      6.222      0.000       0.194       0.372\n",
       "APR Risk of Mortality_Minor                    -0.3333      0.028    -11.828      0.000      -0.389      -0.278\n",
       "APR Risk of Mortality_Moderate                 -0.2286      0.024     -9.338      0.000      -0.277      -0.181\n",
       "Payment Typology 1_Medicaid                     0.1520      0.018      8.223      0.000       0.116       0.188\n",
       "Payment Typology 1_Medicare                     0.4799      0.022     21.470      0.000       0.436       0.524\n",
       "Payment Typology 1_Private Health Insurance    -0.0641      0.022     -2.865      0.004      -0.108      -0.020\n",
       "==============================================================================\n",
       "Omnibus:                    28575.555   Durbin-Watson:                   1.509\n",
       "Prob(Omnibus):                  0.000   Jarque-Bera (JB):           919241.684\n",
       "Skew:                           1.048   Prob(JB):                         0.00\n",
       "Kurtosis:                      19.281   Cond. No.                     6.31e+06\n",
       "==============================================================================\n",
       "\n",
       "Warnings:\n",
       "[1] Standard Errors assume that the covariance matrix of the errors is correctly specified.\n",
       "[2] The condition number is large, 6.31e+06. This might indicate that there are\n",
       "strong multicollinearity or other numerical problems.\n",
       "\"\"\""
      ]
     },
     "execution_count": 365,
     "metadata": {},
     "output_type": "execute_result"
    }
   ],
   "source": [
    "Y = df.length\n",
    "X = df.drop(columns = 'length',axis = 1)\n",
    "X = sm.add_constant(X)\n",
    "model_1 = sm.OLS(Y, X)\n",
    "result_1 = model_1.fit()\n",
    "result_1.summary()"
   ]
  },
  {
   "cell_type": "code",
   "execution_count": null,
   "metadata": {},
   "outputs": [],
   "source": []
  },
  {
   "cell_type": "code",
   "execution_count": null,
   "metadata": {},
   "outputs": [],
   "source": []
  },
  {
   "cell_type": "code",
   "execution_count": null,
   "metadata": {},
   "outputs": [],
   "source": []
  }
 ],
 "metadata": {
  "kernelspec": {
   "display_name": "Python 3",
   "language": "python",
   "name": "python3"
  },
  "language_info": {
   "codemirror_mode": {
    "name": "ipython",
    "version": 3
   },
   "file_extension": ".py",
   "mimetype": "text/x-python",
   "name": "python",
   "nbconvert_exporter": "python",
   "pygments_lexer": "ipython3",
   "version": "3.7.3"
  }
 },
 "nbformat": 4,
 "nbformat_minor": 2
}
